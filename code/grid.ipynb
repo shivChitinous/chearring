{
 "cells": [
  {
   "cell_type": "markdown",
   "metadata": {},
   "source": [
    "# Generating a charlieplexed grid with kicad-skip"
   ]
  },
  {
   "cell_type": "code",
   "execution_count": 4,
   "metadata": {},
   "outputs": [],
   "source": [
    "from skip import Symbol, Schematic"
   ]
  },
  {
   "cell_type": "code",
   "execution_count": 5,
   "metadata": {},
   "outputs": [],
   "source": [
    "gridOrigin = (18, 10)\n",
    "unitspace = 2.54"
   ]
  },
  {
   "cell_type": "code",
   "execution_count": null,
   "metadata": {},
   "outputs": [],
   "source": [
    "schemfile = input(\"Path to a schematic with a LED in it (called DSOMETHING): \")\n",
    "if schemfile is not None and len(schemfile):\n",
    "    schem = Schematic(schemfile)\n",
    "    \n",
    "    diodes = schem.symbol.reference_startswith('D')\n",
    "    if not len(diodes):\n",
    "        print(\"No 'D*' components found in schem\")\n",
    "    else:\n",
    "        \n",
    "        base_diode = diodes[0]\n",
    "        print(f'Using diode {base_diode.property.Reference.value}\\n\\n')\n",
    "        \n",
    "        \n",
    "        grid_or_charly = input(\"Create XY grid (XY) or charlieplex (CP)?  [CP]: \")\n",
    "        if len(grid_or_charly) == 0 or grid_or_charly.lower().startswith('c'):\n",
    "            print(\"Creating charlieplex\")\n",
    "            createCharlieplex(schem, base_diode, 10, 10, len(diodes))\n",
    "        else:\n",
    "            print(\"Creating XY grid\")\n",
    "            createXYGrid(schem, base_diode, 10, 10, len(diodes))\n",
    "        \n",
    "        save_to = input(\"Path to save results to (empty to skip): \")\n",
    "        if save_to is not None and len(save_to):\n",
    "            schem.write(save_to)\n",
    "            print(\"Done... check it out\")"
   ]
  }
 ],
 "metadata": {
  "kernelspec": {
   "display_name": "electronics",
   "language": "python",
   "name": "python3"
  },
  "language_info": {
   "codemirror_mode": {
    "name": "ipython",
    "version": 3
   },
   "file_extension": ".py",
   "mimetype": "text/x-python",
   "name": "python",
   "nbconvert_exporter": "python",
   "pygments_lexer": "ipython3",
   "version": "3.9.21"
  }
 },
 "nbformat": 4,
 "nbformat_minor": 2
}
