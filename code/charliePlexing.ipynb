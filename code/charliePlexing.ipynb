{
 "cells": [
  {
   "cell_type": "markdown",
   "metadata": {},
   "source": [
    "# Generating a charlieplexed LED grid"
   ]
  },
  {
   "cell_type": "code",
   "execution_count": 1,
   "metadata": {},
   "outputs": [],
   "source": [
    "from charlie import *"
   ]
  },
  {
   "cell_type": "code",
   "execution_count": 2,
   "metadata": {},
   "outputs": [],
   "source": [
    "gridSize = (7, 7)\n",
    "gridOrigin = (18, 10)\n",
    "unitspace = 2.54\n",
    "schemfile = \"pre_schematic/pre_schematic_v4/pre_schematic_v4.kicad_sch\"\n",
    "grid_or_charly = \"CP\" # \"CP\" or \"XY\" to denote charlieplex or grid respectively\n",
    "save_to = \"post_schematic/post_schematic_v4_charlieplex.kicad_sch\""
   ]
  },
  {
   "cell_type": "code",
   "execution_count": 3,
   "metadata": {},
   "outputs": [
    {
     "name": "stdout",
     "output_type": "stream",
     "text": [
      "Using diode D1\n",
      "\n",
      "\n",
      "Creating charlieplex\n",
      "Done: created a 7x7 charlieplex\n"
     ]
    }
   ],
   "source": [
    "if schemfile is not None and len(schemfile):\n",
    "    schem = Schematic(schemfile)\n",
    "    \n",
    "    diodes = schem.symbol.reference_startswith('D')\n",
    "    if not len(diodes):\n",
    "        print(\"No 'D*' components found in schem\")\n",
    "    else:\n",
    "        \n",
    "        base_diode = diodes[0]\n",
    "        print(f'Using diode {base_diode.property.Reference.value}\\n\\n')\n",
    "        \n",
    "        if len(grid_or_charly) == 0 or grid_or_charly.lower().startswith('c'):\n",
    "            print(\"Creating charlieplex\")\n",
    "            createCharlieplex(schem, base_diode, gridSize[0], gridSize[1], len(diodes), gridOrigin, unitspace)\n",
    "        else:\n",
    "            print(\"Creating XY grid\")\n",
    "            createXYGrid(schem, base_diode, gridSize[0], gridSize[1], len(diodes))\n",
    "        \n",
    "        if save_to is not None and len(save_to):\n",
    "            schem.write(save_to)"
   ]
  },
  {
   "cell_type": "code",
   "execution_count": null,
   "metadata": {},
   "outputs": [],
   "source": []
  }
 ],
 "metadata": {
  "kernelspec": {
   "display_name": "electronics",
   "language": "python",
   "name": "python3"
  },
  "language_info": {
   "codemirror_mode": {
    "name": "ipython",
    "version": 3
   },
   "file_extension": ".py",
   "mimetype": "text/x-python",
   "name": "python",
   "nbconvert_exporter": "python",
   "pygments_lexer": "ipython3",
   "version": "3.9.21"
  }
 },
 "nbformat": 4,
 "nbformat_minor": 2
}
